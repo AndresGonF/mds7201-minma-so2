{
 "cells": [
  {
   "cell_type": "markdown",
   "id": "fc9debdd",
   "metadata": {},
   "source": [
    "# Gráficos de series de tiempo normalizadas"
   ]
  },
  {
   "cell_type": "markdown",
   "id": "7a65fe2c",
   "metadata": {},
   "source": [
    "Importación de librerías."
   ]
  },
  {
   "cell_type": "code",
   "execution_count": null,
   "id": "a4b88507",
   "metadata": {},
   "outputs": [],
   "source": [
    "import sys\n",
    "import os\n",
    "from functools import reduce\n",
    "\n",
    "project_path = os.path.abspath('..')\n",
    "sys.path.insert(1, project_path)\n",
    "\n",
    "import pandas as pd\n",
    "import numpy as np\n",
    "import matplotlib.pyplot as plt\n",
    "import seaborn as sns\n",
    "import plotly.express as px\n",
    "import datashader as ds\n",
    "import holoviews as hv\n",
    "from holoviews.operation.datashader import datashade\n",
    "\n",
    "from src.utils import get_project_root\n",
    "from src.data.make_dataset import get_minma_data\n",
    "\n",
    "import warnings\n",
    "warnings.simplefilter(action='ignore', category=FutureWarning)\n",
    "pd.options.mode.chained_assignment = None"
   ]
  },
  {
   "cell_type": "markdown",
   "id": "6937ff50",
   "metadata": {},
   "source": [
    "Definición de funciones para obtención de gráficos."
   ]
  },
  {
   "cell_type": "code",
   "execution_count": null,
   "id": "4aae1a39",
   "metadata": {},
   "outputs": [],
   "source": [
    "def stand(df):\n",
    "    '''\n",
    "    Returns a dataframe with all its columns standarize ( (x - mu) / sigma ) \n",
    "    '''\n",
    "    stand_df = df.copy()\n",
    "\n",
    "    for col_name in stand_df:\n",
    "        stand_df[col_name] = ( stand_df[col_name] - stand_df[col_name].mean() ) / stand_df[col_name].std()\n",
    "        \n",
    "    return stand_df"
   ]
  },
  {
   "cell_type": "code",
   "execution_count": null,
   "id": "1de368f4",
   "metadata": {},
   "outputs": [],
   "source": [
    "def peak_df2(station, threshold, params):\n",
    "    df = get_minma_data(params, station, from_last=from_last, n_cols=len(params))\n",
    "    cols_to_drop = list(df.filter(regex='(?<!no validados)_.*')) \n",
    "    df = df.drop(cols_to_drop, axis=1)\n",
    "    df = df.reset_index().rename(columns={\"Registros no validados_SO2\": \"SO2\", \"Registros no validados_NO2\": \"NO2\", \"Registros no validados_NO\": \"NO\", \"Registros no validados_NOX\": \"NOX\", \"Registros no validados_O3\": \"O3\", \"Registros no validados_CO\": \"CO\", \"Registros no validados_MP10\": \"MP10\",\"Registros no validados_MP25\": \"MP25\", \"index\": \"date\"})\n",
    "    \n",
    "    mask_peaks = df[\"SO2\"] >= threshold\n",
    "    peaks_df = df[mask_peaks]\n",
    "    \n",
    "    peaks_df['date'] = pd.to_datetime(peaks_df['date']).dt.date # date_time to dates\n",
    "    crit_days = peaks_df[\"date\"].unique() # unique peak days array\n",
    "    \n",
    "    values = [ df[\"date\"].dt.date == day for day in crit_days ] # get a mask for each crit day\n",
    "    mask_crit_days = reduce(lambda x,y: np.logical_or(x,y), values)\n",
    "    \n",
    "    # filtering df with the mask of critical days\n",
    "    peaks_df = df[mask_crit_days]\n",
    "       \n",
    "    return peaks_df, crit_days"
   ]
  },
  {
   "cell_type": "code",
   "execution_count": null,
   "id": "0e454e0f",
   "metadata": {},
   "outputs": [],
   "source": [
    "def peak_df3(df, station, threshold):\n",
    "    '''\n",
    "    df with date on its index\n",
    "    '''\n",
    "    \n",
    "    mask_peaks = df[\"SO2\"] >= threshold\n",
    "    peaks_df = df[mask_peaks]\n",
    "    \n",
    "    peaks_df = peaks_df.set_index( peaks_df.index.date ) # datetime to date to the index\n",
    "    crit_days = peaks_df.index.unique() # unique peak days array\n",
    "    \n",
    "    values = [ df.index.date == day for day in crit_days ] # get a mask for each crit day\n",
    "    mask_crit_days = reduce(lambda x,y: np.logical_or(x,y), values)\n",
    "    \n",
    "    # filtering df with the mask of critical days\n",
    "    peaks_df = df[mask_crit_days]\n",
    "       \n",
    "    return peaks_df, crit_days"
   ]
  },
  {
   "cell_type": "code",
   "execution_count": null,
   "id": "d623dd29",
   "metadata": {},
   "outputs": [],
   "source": [
    "def generate_var_hour_df( peaks_df, var_name ):\n",
    "    df_var = peaks_df[[var_name]]\n",
    "    df_var[\"Time\"] = df_var.index.date\n",
    "    df_var[\"Hour\"] = df_var.index.hour\n",
    "    df_var = df_var.pivot(index='Hour', columns='Time', values=var_name)\n",
    "    return df_var"
   ]
  },
  {
   "cell_type": "code",
   "execution_count": null,
   "id": "da4f0261",
   "metadata": {},
   "outputs": [],
   "source": [
    "def all_var_plot(all_peaks_df, all_var_names, station):\n",
    "    '''\n",
    "    Grafica las series de tiempo del dataframe ingresado. Establece también los límites de T_min y T_max \n",
    "    normalizados en el gráfico.\n",
    "    '''\n",
    "    \n",
    "    sns.set_style('darkgrid')\n",
    "    sns.set_context('talk')\n",
    "    \n",
    "    total_len_index = len(all_peaks_df) - 2 # without T10 and T40\n",
    "    for c in range(len(all_peaks_df[0].columns)): # for each column (day)\n",
    "        \n",
    "        plt.figure(figsize=(18, 10), dpi=80)\n",
    "        for df_idx in range(total_len_index): # for each index_df (df_variable)\n",
    "            df = all_peaks_df[df_idx]\n",
    "            plt.plot(df.index, df.iloc[:,[c]], label=all_var_names[df_idx]) # plot with variable legend\n",
    "            \n",
    "        T10 = all_peaks_df[-2]\n",
    "        T40 = all_peaks_df[-1]\n",
    "        \n",
    "        plt.hlines(T10.iloc[:,[c]].min(), xmin=0, xmax=23, label='T10', linestyles='dashed', colors='k')\n",
    "        plt.hlines(T10.iloc[:,[c]].max(), xmin=0, xmax=23, linestyles='dashed', colors='k')\n",
    "        \n",
    "        plt.hlines(T40.iloc[:,[c]].min(), xmin=0, xmax=23, label='T40', linestyles='dashed', colors='b')\n",
    "        plt.hlines(T40.iloc[:,[c]].max(), xmin=0, xmax=23, linestyles='dashed', colors='b')\n",
    "\n",
    "        plt.text(23, T10.iloc[:,[c]].max(),'max')\n",
    "        plt.text(23, T10.iloc[:,[c]].min(),'min')\n",
    "        plt.legend()\n",
    "\n",
    "        plt.title(f'{station.capitalize()} - Dia {df.iloc[:,c].name}')\n",
    "        plt.show()"
   ]
  },
  {
   "cell_type": "markdown",
   "id": "ad58428b",
   "metadata": {},
   "source": [
    "## Estación Quintero\n",
    "\n",
    "Análsis de datos de la estación Quintero."
   ]
  },
  {
   "cell_type": "markdown",
   "id": "2955718a",
   "metadata": {},
   "source": [
    "Manejo de datos de la estación Quintero."
   ]
  },
  {
   "cell_type": "code",
   "execution_count": null,
   "id": "3a0cddc6",
   "metadata": {},
   "outputs": [],
   "source": [
    "# parametros a analizar por estacion\n",
    "params = ['SO2','NO2', 'NO', 'NOX', 'O3', 'CO', 'MP10', 'MP25']\n",
    "params_quintero = ['SO2','NO2', 'NO', 'NOX', 'O3', 'CO', 'MP10', 'MP25']\n",
    "params_quintero_2 = ['velviento', 'dirviento', 'T04', 'T10']\n",
    "\n",
    "params_maitenes = ['SO2','NO2', 'NO', 'NOX', 'O3', 'CO', 'MP10', 'MP25']\n",
    "params_ventanas = ['SO2','NO2', 'NO', 'NOX', 'O3', 'MP10', 'MP25']\n",
    "from_last = '5y' # ventanas de tiempo"
   ]
  },
  {
   "cell_type": "code",
   "execution_count": null,
   "id": "f8c24850",
   "metadata": {},
   "outputs": [],
   "source": [
    "meteo_df = pd.read_excel(get_project_root() / 'data' / 'raw' / 'Torre Meteo Codelco Ventanas.xlsx')\n",
    "meteo_df = meteo_df.set_index('date')"
   ]
  },
  {
   "cell_type": "code",
   "execution_count": null,
   "id": "bc0fa0b9",
   "metadata": {},
   "outputs": [],
   "source": [
    "meteo_df.head()"
   ]
  },
  {
   "cell_type": "code",
   "execution_count": null,
   "id": "e6c96a8f",
   "metadata": {},
   "outputs": [],
   "source": [
    "# estableciendo conjuntos de datos para trabajar\n",
    "params_ = params\n",
    "station = 'quintero'\n",
    "get_minma_data(params_, station, from_last=from_last)\n",
    "\n",
    "quintero_df = get_minma_data(params, station, from_last=from_last)\n",
    "cols_to_drop = list(quintero_df.filter(regex='(?<!no validados)_.*'))\n",
    "quintero_df = quintero_df.drop(cols_to_drop, axis=1)\n",
    "quintero_df = quintero_df.rename(columns={\"Registros no validados_SO2\": \"SO2\", \"Registros no validados_NO2\": \"NO2\", \"Registros no validados_NO\": \"NO\", \"Registros no validados_NOX\": \"NOX\", \"Registros no validados_O3\": \"O3\", \"Registros no validados_CO\": \"CO\", \"Registros no validados_MP10\": \"MP10\",\"Registros no validados_MP25\": \"MP25\", \"index\": \"date\"})\n",
    "\n",
    "quintero_df2 = get_minma_data(['velviento', 'dirviento'], station, from_last=from_last, n_cols = 3)\n",
    "quintero_df2 = quintero_df2.rename(columns={\"Unnamed: 2_velviento\": \"VelViento\", \"Unnamed: 2_dirviento\": \"DirViento\"})#, \"Unnamed: 2_T04\": \"T_04\", \"Unnamed: 2_T10\": \"T_10\"})\n",
    "\n",
    "# Union de datos\n",
    "quintero_df = quintero_df.join(quintero_df2)\n",
    "quintero_df = quintero_df.join(meteo_df)\n",
    "\n",
    "# conjunto de datos estandarizados\n",
    "quintero_stand_df = stand(quintero_df)\n",
    "\n",
    "# Obtención de días críticos\n",
    "quintero_peaks_df, quintero_crit_days = peak_df3( quintero_df, 'quintero', threshold=133 )\n",
    "quintero_stand_peaks_df = stand( quintero_peaks_df )"
   ]
  },
  {
   "cell_type": "code",
   "execution_count": null,
   "id": "f66b53c5",
   "metadata": {},
   "outputs": [],
   "source": [
    "# non standarized\n",
    "quintero_SO2 = generate_var_hour_df( quintero_peaks_df, \"SO2\" )\n",
    "quintero_NO2 = generate_var_hour_df( quintero_peaks_df, \"NO2\" )\n",
    "quintero_NO = generate_var_hour_df( quintero_peaks_df, \"NO\" )\n",
    "quintero_NOX = generate_var_hour_df( quintero_peaks_df, \"NOX\" )\n",
    "quintero_O3 = generate_var_hour_df( quintero_peaks_df, \"O3\" )\n",
    "quintero_CO = generate_var_hour_df( quintero_peaks_df, \"CO\" )\n",
    "quintero_MP10 = generate_var_hour_df( quintero_peaks_df, \"MP10\" )\n",
    "quintero_MP25 = generate_var_hour_df( quintero_peaks_df, \"MP25\" )\n",
    "quintero_T10 = generate_var_hour_df( quintero_peaks_df, \"T_20\" )\n",
    "quintero_T40 = generate_var_hour_df( quintero_peaks_df, \"T_40\" )\n",
    "\n",
    "# standarized\n",
    "quintero_stand_SO2 = generate_var_hour_df( quintero_stand_peaks_df, \"SO2\" )\n",
    "quintero_stand_NO2 = generate_var_hour_df( quintero_stand_peaks_df, \"NO2\" )\n",
    "quintero_stand_NO = generate_var_hour_df( quintero_stand_peaks_df, \"NO\" )\n",
    "quintero_stand_NOX = generate_var_hour_df( quintero_stand_peaks_df, \"NOX\" )\n",
    "quintero_stand_O3 = generate_var_hour_df( quintero_stand_peaks_df, \"O3\" )\n",
    "quintero_stand_CO = generate_var_hour_df( quintero_stand_peaks_df, \"CO\" )\n",
    "quintero_stand_MP10 = generate_var_hour_df( quintero_stand_peaks_df, \"MP10\" )\n",
    "quintero_stand_MP25 = generate_var_hour_df( quintero_stand_peaks_df, \"MP25\" )\n",
    "quintero_stand_T10 = generate_var_hour_df( quintero_stand_peaks_df, \"T_20\" )\n",
    "quintero_stand_T40 = generate_var_hour_df( quintero_stand_peaks_df, \"T_40\" )\n",
    "\n",
    "\n",
    "quintero_all_peaks_df = [quintero_SO2,quintero_NO2,quintero_NO, quintero_NOX, quintero_O3, quintero_CO, quintero_MP10, quintero_MP25, quintero_T10, quintero_T40]\n",
    "quintero_stand_all_peaks_df = [quintero_stand_SO2 ,quintero_stand_NO2, quintero_stand_NO, quintero_stand_NOX, quintero_stand_O3, quintero_stand_CO, quintero_stand_MP10, quintero_stand_MP25, quintero_stand_T10, quintero_stand_T40]\n",
    "quintero_all_var_names = ['SO2', 'NO2', 'NO', 'NOX', 'O3', 'CO', 'MP10', 'MP25', 'T10', 'T40']"
   ]
  },
  {
   "cell_type": "markdown",
   "id": "e31f06ac",
   "metadata": {},
   "source": [
    "Serie de tiempo de todas las variables para días peak con datos estandarizados."
   ]
  },
  {
   "cell_type": "code",
   "execution_count": null,
   "id": "9c4dc6d2",
   "metadata": {
    "scrolled": true
   },
   "outputs": [],
   "source": [
    "# Standarized\n",
    "all_var_plot( quintero_stand_all_peaks_df, quintero_all_var_names, 'quintero')"
   ]
  },
  {
   "cell_type": "markdown",
   "id": "8aba2b35",
   "metadata": {},
   "source": [
    "Serie de tiempo de todas las variables para días peak con datos no estandarizados."
   ]
  },
  {
   "cell_type": "code",
   "execution_count": null,
   "id": "205acc41",
   "metadata": {},
   "outputs": [],
   "source": [
    "# Non standarized\n",
    "all_var_plot( quintero_all_peaks_df, quintero_all_var_names, 'quintero' )"
   ]
  },
  {
   "cell_type": "markdown",
   "id": "fb00a24f",
   "metadata": {},
   "source": [
    "<!-- Histograma de frecuencia de peaks por cada hora para la estación Quintero. -->"
   ]
  },
  {
   "cell_type": "markdown",
   "id": "de51452e",
   "metadata": {},
   "source": [
    "## Estación Los Maitenes\n",
    "\n",
    "Análisis de datos de estación Los Maitenes."
   ]
  },
  {
   "cell_type": "markdown",
   "id": "717fd5b4",
   "metadata": {},
   "source": [
    "Manejo de datos de la estación Los Maitenes."
   ]
  },
  {
   "cell_type": "code",
   "execution_count": null,
   "id": "291c49aa",
   "metadata": {},
   "outputs": [],
   "source": [
    "# estableciendo conjuntos de datos para trabajar.\n",
    "params_ = params\n",
    "station = 'maitenes'\n",
    "get_minma_data(params_, station, from_last=from_last)\n",
    "\n",
    "maitenes_df = get_minma_data(params, station, from_last=from_last)\n",
    "cols_to_drop = list(maitenes_df.filter(regex='(?<!no validados)_.*'))\n",
    "maitenes_df = maitenes_df.drop(cols_to_drop, axis=1)\n",
    "maitenes_df = maitenes_df.rename(columns={\"Registros no validados_SO2\": \"SO2\", \"Registros no validados_NO2\": \"NO2\", \"Registros no validados_NO\": \"NO\", \"Registros no validados_NOX\": \"NOX\", \"Registros no validados_O3\": \"O3\", \"Registros no validados_CO\": \"CO\", \"Registros no validados_MP10\": \"MP10\",\"Registros no validados_MP25\": \"MP25\", \"index\": \"date\"})\n",
    "\n",
    "maitenes_df2 = get_minma_data(['velviento', 'dirviento'], station, from_last=from_last, n_cols = 3)\n",
    "maitenes_df2 = maitenes_df2.rename(columns={\"Unnamed: 2_velviento\": \"VelViento\", \"Unnamed: 2_dirviento\": \"DirViento\"})#, \"Unnamed: 2_T04\": \"T_04\", \"Unnamed: 2_T10\": \"T_10\"})\n",
    "\n",
    "# Conjunto de datos no estandarizado\n",
    "maitenes_df = maitenes_df.join(maitenes_df2)\n",
    "maitenes_df = maitenes_df.join(meteo_df)\n",
    "\n",
    "# Conjunto de datos estandarizado\n",
    "maitenes_stand_df = stand(maitenes_df)\n",
    "\n",
    "# Obtención de días críticos\n",
    "maitenes_peaks_df, maitenes_crit_days = peak_df3( maitenes_df, 'maitenes', threshold=133 )\n",
    "maitenes_stand_peaks_df = stand( maitenes_peaks_df )"
   ]
  },
  {
   "cell_type": "code",
   "execution_count": null,
   "id": "e5302332",
   "metadata": {},
   "outputs": [],
   "source": [
    "# non standarized\n",
    "maitenes_SO2 = generate_var_hour_df( maitenes_peaks_df, \"SO2\" )\n",
    "maitenes_NO2 = generate_var_hour_df( maitenes_peaks_df, \"NO2\" )\n",
    "maitenes_NO = generate_var_hour_df( maitenes_peaks_df, \"NO\" )\n",
    "maitenes_NOX = generate_var_hour_df( maitenes_peaks_df, \"NOX\" )\n",
    "maitenes_O3 = generate_var_hour_df( maitenes_peaks_df, \"O3\" )\n",
    "maitenes_CO = generate_var_hour_df( maitenes_peaks_df, \"CO\" )\n",
    "maitenes_MP10 = generate_var_hour_df( maitenes_peaks_df, \"MP10\" )\n",
    "maitenes_MP25 = generate_var_hour_df( maitenes_peaks_df, \"MP25\" )\n",
    "maitenes_T10 = generate_var_hour_df( maitenes_peaks_df, \"T_20\" )\n",
    "maitenes_T40 = generate_var_hour_df( maitenes_peaks_df, \"T_40\" )\n",
    "\n",
    "# standarized\n",
    "maitenes_stand_SO2 = generate_var_hour_df( maitenes_stand_peaks_df, \"SO2\" )\n",
    "maitenes_stand_NO2 = generate_var_hour_df( maitenes_stand_peaks_df, \"NO2\" )\n",
    "maitenes_stand_NO = generate_var_hour_df( maitenes_stand_peaks_df, \"NO\" )\n",
    "maitenes_stand_NOX = generate_var_hour_df( maitenes_stand_peaks_df, \"NOX\" )\n",
    "maitenes_stand_O3 = generate_var_hour_df( maitenes_stand_peaks_df, \"O3\" )\n",
    "maitenes_stand_CO = generate_var_hour_df( maitenes_stand_peaks_df, \"CO\" )\n",
    "maitenes_stand_MP10 = generate_var_hour_df( maitenes_stand_peaks_df, \"MP10\" )\n",
    "maitenes_stand_MP25 = generate_var_hour_df( maitenes_stand_peaks_df, \"MP25\" )\n",
    "maitenes_stand_T10 = generate_var_hour_df( maitenes_stand_peaks_df, \"T_20\" )\n",
    "maitenes_stand_T40 = generate_var_hour_df( maitenes_stand_peaks_df, \"T_40\" )\n",
    "\n",
    "\n",
    "maitenes_all_peaks_df = [maitenes_SO2,quintero_NO2,maitenes_NO, maitenes_NOX, maitenes_O3, maitenes_CO, maitenes_MP10, maitenes_MP25, maitenes_T10, maitenes_T40]\n",
    "maitenes_stand_all_peaks_df = [maitenes_stand_SO2 ,maitenes_stand_NO2, maitenes_stand_NO, maitenes_stand_NOX, maitenes_stand_O3, maitenes_stand_CO, maitenes_stand_MP10, maitenes_stand_MP25, maitenes_stand_T10, maitenes_stand_T40]\n",
    "maitenes_all_var_names = ['SO2', 'NO2', 'NO', 'NOX', 'O3', 'CO', 'MP10', 'MP25', 'T10', 'T40']"
   ]
  },
  {
   "cell_type": "markdown",
   "id": "8221319d",
   "metadata": {},
   "source": [
    "Gráfico de series de tiempo normalizadas para los días con peaks en la estación Los Maitenes."
   ]
  },
  {
   "cell_type": "code",
   "execution_count": null,
   "id": "baeeb9ed",
   "metadata": {
    "scrolled": true
   },
   "outputs": [],
   "source": [
    "all_var_plot( maitenes_stand_all_peaks_df, maitenes_all_var_names, 'maitenes')"
   ]
  },
  {
   "cell_type": "markdown",
   "id": "6820d405",
   "metadata": {},
   "source": [
    "Gráfico de series de tiempo no normalizadas para los días con peaks en la estación Los Maitenes."
   ]
  },
  {
   "cell_type": "code",
   "execution_count": null,
   "id": "54a73317",
   "metadata": {},
   "outputs": [],
   "source": [
    "all_var_plot( maitenes_all_peaks_df, maitenes_all_var_names, 'maitenes' )"
   ]
  }
 ],
 "metadata": {
  "kernelspec": {
   "display_name": "Python 3 (ipykernel)",
   "language": "python",
   "name": "python3"
  },
  "language_info": {
   "codemirror_mode": {
    "name": "ipython",
    "version": 3
   },
   "file_extension": ".py",
   "mimetype": "text/x-python",
   "name": "python",
   "nbconvert_exporter": "python",
   "pygments_lexer": "ipython3",
   "version": "3.7.7"
  }
 },
 "nbformat": 4,
 "nbformat_minor": 5
}
